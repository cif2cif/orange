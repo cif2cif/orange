{
 "cells": [
  {
   "cell_type": "markdown",
   "metadata": {},
   "source": [
    "![](images/UPM-Orange.png \"Orange\")"
   ]
  },
  {
   "cell_type": "markdown",
   "metadata": {},
   "source": [
    "# Course Notes for Machine Learning"
   ]
  },
  {
   "cell_type": "markdown",
   "metadata": {},
   "source": [
    "Department of Telematic Engineering Systems, Universidad Politécnica de Madrid, © 2016 Carlos A. Iglesias"
   ]
  },
  {
   "cell_type": "markdown",
   "metadata": {},
   "source": [
    "## [Introduction to Machine Learning](1_0_0_Intro_ML.ipynb)"
   ]
  },
  {
   "cell_type": "markdown",
   "metadata": {},
   "source": [
    "# Introduction to Machine Learning\n",
    "\n",
    "This lecture provides a quick introduction to Machine Learning in Python using the Iris dataset as an example. \n",
    "\n",
    "In this session we will focus on applying multiclass classification algorithms."
   ]
  },
  {
   "cell_type": "markdown",
   "metadata": {},
   "source": [
    "# Table of Contents"
   ]
  },
  {
   "cell_type": "markdown",
   "metadata": {},
   "source": [
    "1. [Objectives](1_1_Objectives.ipynb)\n",
    "1. [How to use notebooks](1_2_Notebooks.ipynb)\n",
    "1. [Intro Machine learning](1_3_Intro_Machine_Learning.ipynb)\n",
    "1. [What is scikit-learn](1_4_Intro_ScikitLearn.ipynb)\n",
    "1. [Reading Data](1_5_Read_Data.ipynb)\n",
    "2. [Visualisation](1_6_0_Visualisation.ipynb)\n",
    "    1. [Advanced visualisation](1_6_1_Advanced_Visualisation.ipynb)\n",
    "3. [Preprocessing](1_7_Preprocessing.ipynb)\n",
    "4. [Machine learning](1_8_0_Machine_Learning.ipynb)\n",
    "   1. [kNN Model](1_8_1_kNN_Model.ipynb)\n",
    "   1. [Decision Tree Learning Model](1_8_2_Decision_Tree_Model.ipynb)\n",
    "4. [Conclusions](1_9_Conclusions.ipynb)"
   ]
  },
  {
   "cell_type": "markdown",
   "metadata": {},
   "source": [
    "## References"
   ]
  },
  {
   "cell_type": "markdown",
   "metadata": {},
   "source": [
    "* [Scikit-learn web page](http://scikit-learn.org/stable/)\n",
    "* [Scikit-learn videos](http://blog.kaggle.com/author/kevin-markham/) and [notebooks](https://github.com/justmarkham/scikit-learn-videos) by Kevin Marham\n",
    "* [Learning scikit-learn: Machine Learning in Python](http://proquest.safaribooksonline.com/book/programming/python/9781783281930/1dot-machine-learning-a-gentle-introduction/ch01s02_html), Raúl Garreta; Guillermo Moncecchi, Packt Publishing, 2013.\n",
    "* [Python Machine Learning](http://proquest.safaribooksonline.com/book/programming/python/9781783555130), Sebastian Raschka, Packt Publishing, 2015."
   ]
  },
  {
   "cell_type": "markdown",
   "metadata": {},
   "source": [
    "## Licence\n",
    "The notebook is freely licensed under under the [Creative Commons Attribution Share-Alike license](https://creativecommons.org/licenses/by/2.0/).  \n",
    "\n",
    "© 2016 Carlos A. Iglesias, Universidad Politécnica de Madrid."
   ]
  }
 ],
 "metadata": {
  "kernelspec": {
   "display_name": "Python 3",
   "language": "python",
   "name": "python3"
  },
  "language_info": {
   "codemirror_mode": {
    "name": "ipython",
    "version": 3
   },
   "file_extension": ".py",
   "mimetype": "text/x-python",
   "name": "python",
   "nbconvert_exporter": "python",
   "pygments_lexer": "ipython3",
   "version": "3.5.1"
  }
 },
 "nbformat": 4,
 "nbformat_minor": 0
}
